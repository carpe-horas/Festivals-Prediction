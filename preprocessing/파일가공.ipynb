{
 "cells": [
  {
   "cell_type": "code",
   "execution_count": 21,
   "metadata": {},
   "outputs": [],
   "source": [
    "import pandas as pd"
   ]
  },
  {
   "cell_type": "code",
   "execution_count": 22,
   "metadata": {},
   "outputs": [],
   "source": [
    "df1 = pd.read_csv('../data/df.csv')\n",
    "df2 = pd.read_csv('../data/festivalcharac.csv', encoding = 'euc-kr')"
   ]
  },
  {
   "cell_type": "code",
   "execution_count": 23,
   "metadata": {},
   "outputs": [],
   "source": [
    "# 공백삭제\n",
    "df1['name_year'] = df1['name_year'].str.replace(' ', '', regex=True)"
   ]
  },
  {
   "cell_type": "code",
   "execution_count": 24,
   "metadata": {},
   "outputs": [],
   "source": [
    "# '그룹명'과 '구분명' col의 category 데이터들을 깔끔하게 정리하기.\n",
    "df2['그룹명'] = df2['그룹명'].replace({\n",
    "    '축제기간': 'Fe',\n",
    "    '비축제기간': 'non'\n",
    "})\n",
    "\n",
    "df2['구분명'] = df2['구분명'].replace({\n",
    "    '외부방문자 유입': 'foreigner',\n",
    "    '현지인방문자 유입': 'local',\n",
    "    '내비게이션 검색량': 'navi',\n",
    "    '관광소비': 'tour_fee',\n",
    "    '축제지 집중률': 'festival_conc'\n",
    "})\n",
    "\n",
    "# 결측치 처리. 상대적인 비율이라 0으로 표기된 부분이 있을 순 있음.\n",
    "df2['구분값'] = df2['구분값'].replace(0, 0.000001)\n",
    "# 새로운 column 이름이 될 예비 열 생성\n",
    "df2['sum'] = df2['그룹명'] + '_' + df2['구분명']\n",
    "\n",
    "# 피봇 테이블\n",
    "pivot_df2 = df2.pivot_table(index=df2['index'], columns='sum', values='구분값', aggfunc=lambda x: x)\n",
    "\n",
    "# 모두가 0이었던 결측치 드랍.\n",
    "df2 = pivot_df2.loc[~(pivot_df2 == 0.000001).all(axis=1)].reset_index()\n",
    "df2['year'] = df2['index'].str[-4:].astype(int)\n"
   ]
  },
  {
   "cell_type": "code",
   "execution_count": 25,
   "metadata": {},
   "outputs": [],
   "source": [
    "#rapidfuzz로 이름이 약간 다른 파일명이라도 매칭해서 합치기.\n",
    "\n",
    "from rapidfuzz import process as rf_process\n",
    "from rapidfuzz import fuzz\n",
    "\n",
    "def normalize_text(text):\n",
    "    if pd.isna(text):\n",
    "        return \"\"\n",
    "    return str(text).lower().replace(\" \", \"\")\n",
    "\n",
    "df1['normalized_index'] = df1['name_year'].apply(normalize_text)\n",
    "df2['normalized_index'] = df2['index'].apply(normalize_text)\n",
    "\n",
    "matches = []\n",
    "for _, row1 in df1.iterrows():\n",
    "    match = rf_process.extractOne(\n",
    "        row1['normalized_index'],\n",
    "        df2['normalized_index'],\n",
    "        scorer=fuzz.ratio\n",
    "    )\n",
    "    if match and match[1] >= 75:  \n",
    "        matched_row = df2[df2['normalized_index'] == match[0]]\n",
    "        if not matched_row.empty:\n",
    "            matched_row = matched_row.iloc[0]  \n",
    "            if (\n",
    "                row1['year'] == matched_row['year']):\n",
    "                    matches.append({\n",
    "                    'df1_index': row1['name_year'],\n",
    "                    'df2_index': matched_row['index'],\n",
    "                    'similarity_score': match[1],\n",
    "                    'year': row1['year']\n",
    "                })\n",
    "\n",
    "matched_df = pd.DataFrame(matches)\n"
   ]
  },
  {
   "cell_type": "code",
   "execution_count": 26,
   "metadata": {},
   "outputs": [
    {
     "name": "stdout",
     "output_type": "stream",
     "text": [
      "   Unnamed: 0 Festival   name_year  month  year_x  visitors          cost  \\\n",
      "0           0   강경젓갈축제  강경젓갈축제2018     10    2018    110041  8.250000e+08   \n",
      "1           1   강경젓갈축제  강경젓갈축제2022     10    2022    127900  1.003000e+09   \n",
      "2           2   강경젓갈축제  강경젓갈축제2023     10    2023    124299  1.178086e+09   \n",
      "3           3   강릉커피축제  강릉커피축제2018     10    2018    144268  3.904450e+08   \n",
      "4           4   강릉커피축제  강릉커피축제2019     10    2019    160896  4.400000e+08   \n",
      "\n",
      "         date  visit/cost  target  ...  Fe_local   Fe_navi Fe_tour_fee  \\\n",
      "0  2018-10-01    0.000133     old  ...  0.921656  0.571892    0.616762   \n",
      "1  2022-10-01    0.000128     old  ...  0.875192  0.635511    0.722520   \n",
      "2  2023-10-01    0.000106     old  ...  0.951465  0.662677    0.684069   \n",
      "3  2018-10-01    0.000369  family  ...  0.659793  0.446371    0.582128   \n",
      "4  2019-10-01    0.000366  family  ...  0.860715  0.495819    0.579160   \n",
      "\n",
      "  non_festival_conc  non_foreigner  non_local  non_navi  non_tour_fee  year_y  \\\n",
      "0          0.439870       0.315319   0.556115  0.301577      0.616054    2018   \n",
      "1          0.471121       0.347907   0.569888  0.286369      0.699351    2022   \n",
      "2          0.359011       0.271667   0.471839  0.176157      0.629403    2023   \n",
      "3          0.567875       0.346158   0.464111  0.292551      0.616704    2018   \n",
      "4          0.531784       0.396521   0.748458  0.284490      0.600288    2019   \n",
      "\n",
      "   normalized_index_y  \n",
      "0          강경젓갈축제2018  \n",
      "1          강경젓갈축제2022  \n",
      "2          강경젓갈축제2023  \n",
      "3          강릉커피축제2018  \n",
      "4          강릉커피축제2019  \n",
      "\n",
      "[5 rows x 26 columns]\n"
     ]
    }
   ],
   "source": [
    "\n",
    "df2_matched = pd.merge(\n",
    "    df1, \n",
    "    matched_df[['df1_index', 'df2_index']], \n",
    "    left_on='name_year',  \n",
    "    right_on='df1_index',  \n",
    "    how='left'  \n",
    ")\n",
    "\n",
    "\n",
    "final_df = pd.merge(\n",
    "    df2_matched,  \n",
    "    df2,  \n",
    "    left_on='df2_index',  \n",
    "    right_on='index', \n",
    "    how='left' \n",
    ")\n",
    "\n",
    "print(final_df.head())              #fuzz 한 후 드랍할 column들 정리.\n",
    "final_df = final_df.drop(columns = ['normalized_index_y',\n",
    "                                    'normalized_index_x',\n",
    "                                    'year_y',\n",
    "                                    'df1_index',\n",
    "                                    'df2_index', \n",
    "                                    'index',\n",
    "                                    'Unnamed: 0'])\n",
    "\n",
    "final_df.rename(columns = {'year_x' : 'year'}, inplace = True)\n",
    "\n",
    "final_df.to_csv('../data/df_charac.csv')\n"
   ]
  },
  {
   "cell_type": "code",
   "execution_count": 27,
   "metadata": {},
   "outputs": [
    {
     "data": {
      "text/plain": [
       "Index(['축제명', '개최년도', '축제기간(일)', '(현지인)방문자수', '(외지인)방문자수', '(외국인)방문자수',\n",
       "       '(전체)방문자수', '일평균 방문자수', '전년도 일평균 방문자수', '일평균 방문자수 증감률', '(이전)전체방문자',\n",
       "       '(전체)방문자증감', '(현지인)방문자비율', '(외지인)방문자비율', '(외국인)방문자비율', '전년대비방문자증감비율',\n",
       "       'index_x', '도', '시군구', 'normalized_index_x', 'df1_index', 'df2_index',\n",
       "       '회계연도', '지역명', '행사축제명', '총비용', '사업수익', '순원가', '시작월', '종료월', 'index_y',\n",
       "       'normalized_index_y'],\n",
       "      dtype='object')"
      ]
     },
     "execution_count": 27,
     "metadata": {},
     "output_type": "execute_result"
    }
   ],
   "source": [
    "df3.columns"
   ]
  },
  {
   "cell_type": "code",
   "execution_count": 28,
   "metadata": {},
   "outputs": [],
   "source": [
    "df3 = pd.read_csv('../data/전국연도별방문자회계정보정말정말최종ver.csv')\n",
    "\n",
    "final_df = pd.merge(\n",
    "    final_df,  \n",
    "    df3[['축제기간(일)', '도', 'index_y']],  \n",
    "    left_on='name_year',  \n",
    "    right_on='index_y', \n",
    "    how='left' \n",
    ")\n"
   ]
  },
  {
   "cell_type": "code",
   "execution_count": 29,
   "metadata": {},
   "outputs": [],
   "source": [
    "\n",
    "final_df.to_csv('../data/df_charac.csv')"
   ]
  }
 ],
 "metadata": {
  "kernelspec": {
   "display_name": "base",
   "language": "python",
   "name": "python3"
  },
  "language_info": {
   "codemirror_mode": {
    "name": "ipython",
    "version": 3
   },
   "file_extension": ".py",
   "mimetype": "text/x-python",
   "name": "python",
   "nbconvert_exporter": "python",
   "pygments_lexer": "ipython3",
   "version": "3.12.7"
  }
 },
 "nbformat": 4,
 "nbformat_minor": 2
}
