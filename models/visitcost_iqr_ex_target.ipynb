{
 "cells": [
  {
   "cell_type": "code",
   "execution_count": 41,
   "metadata": {},
   "outputs": [],
   "source": [
    "import pandas as pd\n",
    "from sklearn.model_selection import train_test_split\n",
    "import numpy as np\n",
    "data = pd.read_csv('../data/df.csv')\n",
    "   \n",
    "data = data.dropna()\n",
    "\n",
    "def iqr(df, columns):\n",
    "    Q1 = df[columns].quantile(0.25)\n",
    "    Q3 = df[columns].quantile(0.75)\n",
    "    IQR = Q3 - Q1\n",
    "    \n",
    "    lower = Q1 - 1.5 * IQR\n",
    "    upper = Q3 + 1.5 * IQR\n",
    "    \n",
    "    df_clipped = df.copy()\n",
    "    \n",
    "    for column in columns:\n",
    "        df_clipped[column] = df[column].clip(lower=lower[column], upper=upper[column])\n",
    "        \n",
    "    return df_clipped\n",
    "\n",
    "data = iqr(data, ['visitors', 'visit/cost'])\n",
    "\n",
    "data = pd.get_dummies(data, columns=['target'], drop_first=False)\n",
    "\n",
    "X = data[['month', 'cost', 'target_family', 'target_old', 'target_youth']]\n",
    "y_visitors = data['visitors']\n",
    "y_vicost = data['visit/cost'] \n",
    "X_train, X_test, y_train_visitors, y_test_visitors, y_train_vicost, y_test_vicost = train_test_split(\n",
    "X, y_visitors, y_vicost, test_size=0.2, random_state=42)\n"
   ]
  },
  {
   "cell_type": "markdown",
   "metadata": {},
   "source": [
    "RF"
   ]
  },
  {
   "cell_type": "code",
   "execution_count": 23,
   "metadata": {},
   "outputs": [],
   "source": [
    "from sklearn.ensemble import RandomForestRegressor, GradientBoostingRegressor\n",
    "\n",
    "def train_models(X_train, y_train_visitors, y_train_vicost):\n",
    "    rf_visitors = RandomForestRegressor(n_estimators=100, random_state=42)\n",
    "    rf_visitors.fit(X_train, y_train_visitors)\n",
    "\n",
    "    rf_vicost = RandomForestRegressor(n_estimators=100, random_state=42)\n",
    "    rf_vicost.fit(X_train, y_train_vicost)\n",
    "    \n",
    "    gb_visitors = GradientBoostingRegressor(n_estimators=100, random_state=42)\n",
    "    gb_visitors.fit(X_train, y_train_visitors)\n",
    "    \n",
    "    gb_vicost = GradientBoostingRegressor(n_estimators=100, random_state=42)\n",
    "    gb_vicost.fit(X_train, y_train_vicost)\n",
    "    \n",
    "    return rf_visitors, rf_vicost, gb_visitors, gb_vicost\n",
    "\n",
    "rf_visitors, rf_vicost, gb_visitors, gb_vicost = train_models(X_train, y_train_visitors, y_train_vicost)\n"
   ]
  },
  {
   "cell_type": "code",
   "execution_count": 38,
   "metadata": {},
   "outputs": [
    {
     "name": "stdout",
     "output_type": "stream",
     "text": [
      "Best visitors RF : {'max_depth': 4, 'min_samples_split': 2, 'n_estimators': 50}\n",
      "Best visit/cost RF : {'max_depth': 3, 'min_samples_split': 7, 'n_estimators': 30}\n"
     ]
    }
   ],
   "source": [
    "import numpy as np\n",
    "from sklearn.model_selection import GridSearchCV\n",
    "\n",
    "def tune_rf(X_train, y_train_visitors, y_train_vicost):\n",
    "    param_grid_rf = {\n",
    "        'n_estimators': np.arange(10, 150, 20),\n",
    "        'max_depth': [3,4,5],\n",
    "        'min_samples_split':  np.arange(2, 8)}\n",
    "\n",
    "    rf_visitors = RandomForestRegressor(random_state=42)\n",
    "    grid_search_rf_visitors = GridSearchCV(estimator=rf_visitors, param_grid=param_grid_rf, cv=5, scoring='neg_mean_squared_error')\n",
    "    grid_search_rf_visitors.fit(X_train, y_train_visitors)\n",
    "    \n",
    "    rf_vicost = RandomForestRegressor(random_state=42)\n",
    "    grid_search_rf_vicost = GridSearchCV(estimator=rf_vicost, param_grid=param_grid_rf, cv=5, scoring='neg_mean_squared_error')\n",
    "    grid_search_rf_vicost.fit(X_train, y_train_vicost)\n",
    "    \n",
    "    print(f\"Best visitors RF : {grid_search_rf_visitors.best_params_}\")\n",
    "    print(f\"Best visit/cost RF : {grid_search_rf_vicost.best_params_}\")\n",
    "\n",
    "    return grid_search_rf_visitors.best_estimator_, grid_search_rf_vicost.best_estimator_\n",
    "\n",
    "best_rf_visitors, best_rf_vicost = tune_rf(X_train, y_train_visitors, y_train_vicost)\n"
   ]
  },
  {
   "cell_type": "code",
   "execution_count": 39,
   "metadata": {},
   "outputs": [
    {
     "name": "stdout",
     "output_type": "stream",
     "text": [
      "Visitors Model Performance:\n",
      "  MSE: 6273207232.065612\n",
      "  R²: 0.3321162109236153\n",
      "Visit/Cost Model Performance:\n",
      "  MSE: 8.496858353715138e-09\n",
      "  R²: 0.6071416678754656\n"
     ]
    }
   ],
   "source": [
    "from sklearn.metrics import mean_squared_error, r2_score\n",
    "\n",
    "def evaluate_models(best_visitors, best_vicost, X_test, y_test_visitors, y_test_vicost):\n",
    "    # Visitors 모델 평가\n",
    "    y_pred_visitors = best_visitors.predict(X_test)\n",
    "    mse_visitors = mean_squared_error(y_test_visitors, y_pred_visitors)\n",
    "    r2_visitors = r2_score(y_test_visitors, y_pred_visitors)\n",
    "\n",
    "    # Visit/Cost 모델 평가\n",
    "    y_pred_vicost = best_vicost.predict(X_test)\n",
    "    mse_vicost = mean_squared_error(y_test_vicost, y_pred_vicost)\n",
    "    r2_vicost = r2_score(y_test_vicost, y_pred_vicost)\n",
    "\n",
    "    # 결과 출력\n",
    "    print(f\"Visitors Model Performance:\")\n",
    "    print(f\"  MSE: {mse_visitors}\")\n",
    "    print(f\"  R²: {r2_visitors}\")\n",
    "\n",
    "    print(f\"Visit/Cost Model Performance:\")\n",
    "    print(f\"  MSE: {mse_vicost}\")\n",
    "    print(f\"  R²: {r2_vicost}\")\n",
    "\n",
    "evaluate_models(best_rf_visitors, best_rf_vicost, X_test, y_test_visitors, y_test_vicost)\n"
   ]
  },
  {
   "cell_type": "markdown",
   "metadata": {},
   "source": [
    "xgb"
   ]
  },
  {
   "cell_type": "code",
   "execution_count": 27,
   "metadata": {},
   "outputs": [
    {
     "name": "stdout",
     "output_type": "stream",
     "text": [
      "Requirement already satisfied: xgboost in c:\\anaconda3\\lib\\site-packages (2.1.2)\n",
      "Requirement already satisfied: numpy in c:\\anaconda3\\lib\\site-packages (from xgboost) (1.26.4)\n",
      "Requirement already satisfied: scipy in c:\\anaconda3\\lib\\site-packages (from xgboost) (1.13.1)\n"
     ]
    }
   ],
   "source": [
    "!pip install xgboost"
   ]
  },
  {
   "cell_type": "code",
   "execution_count": 29,
   "metadata": {},
   "outputs": [],
   "source": [
    "import xgboost as xgb\n",
    "\n",
    "def train_xgboost(X_train, y_train_visitors, y_train_vicost):\n",
    "    \n",
    "    xgb_visitors = xgb.XGBRegressor(n_estimators=100, random_state=42)\n",
    "    xgb_visitors.fit(X_train, y_train_visitors)\n",
    "\n",
    "    xgb_vicost = xgb.XGBRegressor(n_estimators=100, random_state=42)\n",
    "    xgb_vicost.fit(X_train, y_train_vicost)\n",
    "    \n",
    "    return xgb_visitors, xgb_vicost\n",
    "\n",
    "xgb_visitors, xgb_vicost = train_xgboost(X_train, y_train_visitors, y_train_vicost)"
   ]
  },
  {
   "cell_type": "code",
   "execution_count": null,
   "metadata": {},
   "outputs": [],
   "source": [
    "def tune_rf(X_train, y_train_visitors, y_train_vicost):\n",
    "    param_grid_xgb = {\n",
    "        'n_estimators': np.arange(10,210,20),\n",
    "        'max_depth': [2, 3, 4],\n",
    "        'learning_rate': np.arange(0.03,0.1,0.01),\n",
    "        'subsample': np.arange(0.3,0.8,0.1),\n",
    "        'colsample_bytree': np.arange(0.1, 0.8, 0.1)}\n",
    "\n",
    "    xgb_visitors = xgb.XGBRegressor(random_state=42)\n",
    "    grid_search_xgb_visitors = GridSearchCV(estimator=xgb_visitors, param_grid=param_grid_xgb, cv=5, scoring='neg_mean_squared_error')\n",
    "    grid_search_xgb_visitors.fit(X_train, y_train_visitors)\n",
    "\n",
    "    xgb_vicost = xgb.XGBRegressor(random_state=42)\n",
    "    grid_search_xgb_vicost = GridSearchCV(estimator=xgb_vicost, param_grid=param_grid_xgb, cv=5, scoring='neg_mean_squared_error')\n",
    "    grid_search_xgb_vicost.fit(X_train, y_train_vicost)\n",
    "    \n",
    "    print(f\"Best xgb visitors: {grid_search_xgb_visitors.best_params_}\")\n",
    "    print(f\"Best xgb visit/cost: {grid_search_xgb_vicost.best_params_}\")\n",
    "\n",
    "    return grid_search_xgb_visitors.best_estimator_, grid_search_xgb_vicost.best_estimator_\n",
    "\n",
    "best_xgb_visitors, best_xgb_vicost = tune_rf(X_train, y_train_visitors, y_train_vicost)"
   ]
  },
  {
   "cell_type": "code",
   "execution_count": 32,
   "metadata": {},
   "outputs": [
    {
     "name": "stdout",
     "output_type": "stream",
     "text": [
      "Visitors Model Performance:\n",
      "  MSE: 6363955590.185793\n",
      "  R²: 0.32245458888059375\n",
      "Visit/Cost Model Performance:\n",
      "  MSE: 1.553278169715059e-08\n",
      "  R²: 0.28183071239160096\n"
     ]
    }
   ],
   "source": [
    "def evaluate_models(best_visitors, best_vicost, X_test, y_test_visitors, y_test_vicost):\n",
    "    # Visitors 모델 평가\n",
    "    y_pred_visitors = best_visitors.predict(X_test)\n",
    "    mse_visitors = mean_squared_error(y_test_visitors, y_pred_visitors)\n",
    "    r2_visitors = r2_score(y_test_visitors, y_pred_visitors)\n",
    "\n",
    "    # Visit/Cost 모델 평가\n",
    "    y_pred_vicost = best_vicost.predict(X_test)\n",
    "    mse_vicost = mean_squared_error(y_test_vicost, y_pred_vicost)\n",
    "    r2_vicost = r2_score(y_test_vicost, y_pred_vicost)\n",
    "\n",
    "    # 결과 출력\n",
    "    print(f\"Visitors Model Performance:\")\n",
    "    print(f\"  MSE: {mse_visitors}\")\n",
    "    print(f\"  R²: {r2_visitors}\")\n",
    "\n",
    "    print(f\"Visit/Cost Model Performance:\")\n",
    "    print(f\"  MSE: {mse_vicost}\")\n",
    "    print(f\"  R²: {r2_vicost}\")\n",
    "\n",
    "evaluate_models(best_xgb_visitors, best_xgb_vicost, X_test, y_test_visitors, y_test_vicost)"
   ]
  },
  {
   "cell_type": "markdown",
   "metadata": {},
   "source": [
    "GBR"
   ]
  },
  {
   "cell_type": "code",
   "execution_count": 33,
   "metadata": {},
   "outputs": [
    {
     "name": "stdout",
     "output_type": "stream",
     "text": [
      "Visitors Model Performance:\n",
      "  MSE: 7502673106.285818\n",
      "  R²: 0.2012197976157578\n",
      "Visit/Cost Model Performance:\n",
      "  MSE: 9.136792145909058e-09\n",
      "  R²: 0.5775538706207888\n"
     ]
    }
   ],
   "source": [
    "from sklearn.ensemble import GradientBoostingRegressor\n",
    "from sklearn.metrics import mean_squared_error, r2_score\n",
    "\n",
    "def train_gradient_boosting(X_train, y_train_visitors, y_train_vicost):\n",
    "    gb_visitors = GradientBoostingRegressor(n_estimators=100, random_state=42)\n",
    "    gb_visitors.fit(X_train, y_train_visitors)\n",
    "\n",
    "    gb_vicost = GradientBoostingRegressor(n_estimators=100, random_state=42)\n",
    "    gb_vicost.fit(X_train, y_train_vicost)\n",
    "    \n",
    "    return gb_visitors, gb_vicost\n",
    "\n",
    "gb_visitors, gb_vicost = train_gradient_boosting(X_train, y_train_visitors, y_train_vicost)\n",
    "\n",
    "evaluate_models(gb_visitors, gb_vicost, X_test, y_test_visitors, y_test_vicost)\n"
   ]
  },
  {
   "cell_type": "code",
   "execution_count": 36,
   "metadata": {},
   "outputs": [
    {
     "name": "stdout",
     "output_type": "stream",
     "text": [
      "Best parameters for visitors: {'learning_rate': 0.1, 'max_depth': 2, 'n_estimators': 25, 'subsample': 1.0}\n",
      "Best parameters for visit/cost: {'learning_rate': 0.05, 'max_depth': 2, 'n_estimators': 50, 'subsample': 1.0}\n"
     ]
    }
   ],
   "source": [
    "from sklearn.model_selection import GridSearchCV\n",
    "\n",
    "def tune_gradient_boosting(X_train, y_train_visitors, y_train_vicost):\n",
    "    param_grid_gb = {\n",
    "        'n_estimators': [25, 50, 150, 200],\n",
    "        'max_depth': [2, 3, 4],\n",
    "        'learning_rate': [0.01, 0.05, 0.1],\n",
    "        'subsample': [0.5, 0.8, 1.0]}\n",
    "    \n",
    "    gb_visitors = GradientBoostingRegressor(random_state=42)\n",
    "    grid_search_gb_visitors = GridSearchCV(estimator=gb_visitors, param_grid=param_grid_gb, cv=5, scoring='neg_mean_squared_error')\n",
    "    grid_search_gb_visitors.fit(X_train, y_train_visitors)\n",
    "\n",
    "    gb_vicost = GradientBoostingRegressor(random_state=42)\n",
    "    grid_search_gb_vicost = GridSearchCV(estimator=gb_vicost, param_grid=param_grid_gb, cv=5, scoring='neg_mean_squared_error')\n",
    "    grid_search_gb_vicost.fit(X_train, y_train_vicost)\n",
    "\n",
    "    print(f\"Best parameters for visitors: {grid_search_gb_visitors.best_params_}\")\n",
    "    print(f\"Best parameters for visit/cost: {grid_search_gb_vicost.best_params_}\")\n",
    "\n",
    "    return grid_search_gb_visitors.best_estimator_, grid_search_gb_vicost.best_estimator_\n",
    "\n",
    "best_gb_visitors, best_gb_vicost = tune_gradient_boosting(X_train, y_train_visitors, y_train_vicost)\n"
   ]
  },
  {
   "cell_type": "code",
   "execution_count": 37,
   "metadata": {},
   "outputs": [
    {
     "name": "stdout",
     "output_type": "stream",
     "text": [
      "Visitors Model Performance:\n",
      "  MSE: 7609133369.842461\n",
      "  R²: 0.18988539057643083\n",
      "Visit/Cost Model Performance:\n",
      "  MSE: 8.812427945560647e-09\n",
      "  R²: 0.5925510817598997\n"
     ]
    }
   ],
   "source": [
    "evaluate_models(best_gb_visitors, best_gb_vicost, X_test, y_test_visitors, y_test_vicost)"
   ]
  },
  {
   "cell_type": "markdown",
   "metadata": {},
   "source": [
    "RANSAC"
   ]
  },
  {
   "cell_type": "code",
   "execution_count": null,
   "metadata": {},
   "outputs": [],
   "source": [
    "from sklearn.linear_model import RANSACRegressor\n",
    "\n",
    "def train_ransac(X_train, y_train_visitors, y_train_vicost):\n",
    "    ransac_visitors = RANSACRegressor(random_state=42)\n",
    "    ransac_visitors.fit(X_train, y_train_visitors)\n",
    "\n",
    "    ransac_vicost = RANSACRegressor(random_state=42)\n",
    "    ransac_vicost.fit(X_train, y_train_vicost)\n",
    "    \n",
    "    return ransac_visitors, ransac_vicost\n",
    "\n",
    "ransac_visitors, ransac_vicost = train_ransac(X_train, y_train_visitors, y_train_vicost)\n",
    "\n",
    "evaluate_models(ransac_visitors, ransac_vicost, X_test, y_test_visitors, y_test_vicost)\n",
    "    \n"
   ]
  }
 ],
 "metadata": {
  "kernelspec": {
   "display_name": "base",
   "language": "python",
   "name": "python3"
  },
  "language_info": {
   "codemirror_mode": {
    "name": "ipython",
    "version": 3
   },
   "file_extension": ".py",
   "mimetype": "text/x-python",
   "name": "python",
   "nbconvert_exporter": "python",
   "pygments_lexer": "ipython3",
   "version": "3.12.7"
  }
 },
 "nbformat": 4,
 "nbformat_minor": 2
}
