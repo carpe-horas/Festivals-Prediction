{
 "cells": [
  {
   "cell_type": "code",
   "execution_count": 199,
   "metadata": {},
   "outputs": [],
   "source": [
    "# sns언급량만 독립변수로 한 방문자 수 예측"
   ]
  },
  {
   "cell_type": "code",
   "execution_count": 200,
   "metadata": {},
   "outputs": [],
   "source": [
    "import pandas as pd\n",
    "import numpy as np\n",
    "import matplotlib.pyplot as plt"
   ]
  },
  {
   "cell_type": "code",
   "execution_count": 201,
   "metadata": {},
   "outputs": [
    {
     "name": "stdout",
     "output_type": "stream",
     "text": [
      "   year  month Province City Location  Search_Volume\n",
      "0  2024      1     충청남도  공주시      NaN          20466\n",
      "1  2024      2     충청남도  공주시      NaN          21763\n",
      "2  2024      3     충청남도  공주시      NaN          23553\n",
      "3  2024      4     충청남도  공주시      NaN          26274\n",
      "4  2024      5     충청남도  공주시      NaN          29286\n"
     ]
    }
   ],
   "source": [
    "df_sns = pd.read_csv('./data/sns언급량.csv', encoding='utf-8-sig')\n",
    "\n",
    "print(df_sns.head())  "
   ]
  },
  {
   "cell_type": "code",
   "execution_count": 202,
   "metadata": {},
   "outputs": [
    {
     "name": "stdout",
     "output_type": "stream",
     "text": [
      "      축제명     도  시군구  읍면동  개최년도  시작월  종료월  축체기간(일)  (현지인)방문자수  (외지인)방문자수  ...  \\\n",
      "0  강경젓갈축제  충청남도  논산시  강경읍  2018   10   10        5      50642      59291  ...   \n",
      "1  강경젓갈축제  충청남도  논산시  강경읍  2022   10   10        5      57971      69910  ...   \n",
      "2  강경젓갈축제  충청남도  논산시  강경읍  2023   10   10        4      52282      71999  ...   \n",
      "3  괴산고추축제  충청북도  괴산군  괴산읍  2018    8    9        4      38254      53578  ...   \n",
      "4  괴산고추축제  충청북도  괴산군  괴산읍  2019    8    9        4      39975      70971  ...   \n",
      "\n",
      "   (전체)방문자수  일평균 방문자수  전년도 일평균 방문자수  일평균 방문자수 증감률  (이전)전체방문자  (전체)방문자증감  \\\n",
      "0    110041  22008.20           NaN           NaN        NaN     110041   \n",
      "1    127900  25580.00      22008.20          16.2   110041.0      17859   \n",
      "2    124299  31074.75      25580.00          21.5   127900.0      -3601   \n",
      "3     91907  22976.75           NaN           NaN        NaN      91907   \n",
      "4    111098  27774.50      22976.75          20.9    91907.0      19191   \n",
      "\n",
      "   (현지인)방문자비율  (외지인)방문자비율  (외국인)방문자비율  전년대비방문자증감비율  \n",
      "0       46.02       53.88        0.10         0.00  \n",
      "1       45.33       54.66        0.01        16.23  \n",
      "2       42.06       57.92        0.01        -2.82  \n",
      "3       41.62       58.30        0.08         0.00  \n",
      "4       35.98       63.88        0.14        20.88  \n",
      "\n",
      "[5 rows x 21 columns]\n"
     ]
    }
   ],
   "source": [
    "df_visitors = pd.read_csv('./data/충청도연도별방문자추이.csv', encoding='utf-8-sig')\n",
    "\n",
    "print(df_visitors.head())  "
   ]
  },
  {
   "cell_type": "code",
   "execution_count": 203,
   "metadata": {},
   "outputs": [
    {
     "name": "stdout",
     "output_type": "stream",
     "text": [
      "<class 'pandas.core.frame.DataFrame'>\n",
      "RangeIndex: 829 entries, 0 to 828\n",
      "Data columns (total 6 columns):\n",
      " #   Column         Non-Null Count  Dtype \n",
      "---  ------         --------------  ----- \n",
      " 0   year           829 non-null    int64 \n",
      " 1   month          829 non-null    int64 \n",
      " 2   Province       829 non-null    object\n",
      " 3   City           829 non-null    object\n",
      " 4   Location       140 non-null    object\n",
      " 5   Search_Volume  829 non-null    int64 \n",
      "dtypes: int64(3), object(3)\n",
      "memory usage: 39.0+ KB\n",
      "None\n",
      "=========================\n",
      "<class 'pandas.core.frame.DataFrame'>\n",
      "RangeIndex: 43 entries, 0 to 42\n",
      "Data columns (total 21 columns):\n",
      " #   Column        Non-Null Count  Dtype  \n",
      "---  ------        --------------  -----  \n",
      " 0   축제명           43 non-null     object \n",
      " 1   도             43 non-null     object \n",
      " 2   시군구           43 non-null     object \n",
      " 3   읍면동           43 non-null     object \n",
      " 4   개최년도          43 non-null     int64  \n",
      " 5   시작월           43 non-null     int64  \n",
      " 6   종료월           43 non-null     int64  \n",
      " 7   축체기간(일)       43 non-null     int64  \n",
      " 8   (현지인)방문자수     43 non-null     int64  \n",
      " 9   (외지인)방문자수     43 non-null     int64  \n",
      " 10  (외국인)방문자수     43 non-null     int64  \n",
      " 11  (전체)방문자수      43 non-null     int64  \n",
      " 12  일평균 방문자수      43 non-null     float64\n",
      " 13  전년도 일평균 방문자수  32 non-null     float64\n",
      " 14  일평균 방문자수 증감률  32 non-null     float64\n",
      " 15  (이전)전체방문자     32 non-null     float64\n",
      " 16  (전체)방문자증감     43 non-null     int64  \n",
      " 17  (현지인)방문자비율    43 non-null     float64\n",
      " 18  (외지인)방문자비율    43 non-null     float64\n",
      " 19  (외국인)방문자비율    43 non-null     float64\n",
      " 20  전년대비방문자증감비율   43 non-null     float64\n",
      "dtypes: float64(8), int64(9), object(4)\n",
      "memory usage: 7.2+ KB\n",
      "None\n"
     ]
    }
   ],
   "source": [
    "print(df_sns.info())\n",
    "print(\"=========================\")\n",
    "print(df_visitors.info())"
   ]
  },
  {
   "cell_type": "code",
   "execution_count": 204,
   "metadata": {},
   "outputs": [],
   "source": [
    "# 데이터 병합을 위한 컬럼 이름 통일 (df_visitors 기준으로 변경)\n",
    "df_sns.rename(columns={\"year\": \"개최년도\", \"City\": \"시군구\", \"Search_Volume\": \"SNS_언급량\"}, inplace=True)\n"
   ]
  },
  {
   "cell_type": "code",
   "execution_count": 205,
   "metadata": {},
   "outputs": [
    {
     "data": {
      "text/html": [
       "<div>\n",
       "<style scoped>\n",
       "    .dataframe tbody tr th:only-of-type {\n",
       "        vertical-align: middle;\n",
       "    }\n",
       "\n",
       "    .dataframe tbody tr th {\n",
       "        vertical-align: top;\n",
       "    }\n",
       "\n",
       "    .dataframe thead th {\n",
       "        text-align: right;\n",
       "    }\n",
       "</style>\n",
       "<table border=\"1\" class=\"dataframe\">\n",
       "  <thead>\n",
       "    <tr style=\"text-align: right;\">\n",
       "      <th></th>\n",
       "      <th>개최년도</th>\n",
       "      <th>month</th>\n",
       "      <th>Province</th>\n",
       "      <th>시군구</th>\n",
       "      <th>Location</th>\n",
       "      <th>SNS_언급량</th>\n",
       "    </tr>\n",
       "  </thead>\n",
       "  <tbody>\n",
       "    <tr>\n",
       "      <th>0</th>\n",
       "      <td>2024</td>\n",
       "      <td>1</td>\n",
       "      <td>충청남도</td>\n",
       "      <td>공주시</td>\n",
       "      <td>NaN</td>\n",
       "      <td>20466</td>\n",
       "    </tr>\n",
       "    <tr>\n",
       "      <th>1</th>\n",
       "      <td>2024</td>\n",
       "      <td>2</td>\n",
       "      <td>충청남도</td>\n",
       "      <td>공주시</td>\n",
       "      <td>NaN</td>\n",
       "      <td>21763</td>\n",
       "    </tr>\n",
       "    <tr>\n",
       "      <th>2</th>\n",
       "      <td>2024</td>\n",
       "      <td>3</td>\n",
       "      <td>충청남도</td>\n",
       "      <td>공주시</td>\n",
       "      <td>NaN</td>\n",
       "      <td>23553</td>\n",
       "    </tr>\n",
       "    <tr>\n",
       "      <th>3</th>\n",
       "      <td>2024</td>\n",
       "      <td>4</td>\n",
       "      <td>충청남도</td>\n",
       "      <td>공주시</td>\n",
       "      <td>NaN</td>\n",
       "      <td>26274</td>\n",
       "    </tr>\n",
       "    <tr>\n",
       "      <th>4</th>\n",
       "      <td>2024</td>\n",
       "      <td>5</td>\n",
       "      <td>충청남도</td>\n",
       "      <td>공주시</td>\n",
       "      <td>NaN</td>\n",
       "      <td>29286</td>\n",
       "    </tr>\n",
       "  </tbody>\n",
       "</table>\n",
       "</div>"
      ],
      "text/plain": [
       "   개최년도  month Province  시군구 Location  SNS_언급량\n",
       "0  2024      1     충청남도  공주시      NaN    20466\n",
       "1  2024      2     충청남도  공주시      NaN    21763\n",
       "2  2024      3     충청남도  공주시      NaN    23553\n",
       "3  2024      4     충청남도  공주시      NaN    26274\n",
       "4  2024      5     충청남도  공주시      NaN    29286"
      ]
     },
     "execution_count": 205,
     "metadata": {},
     "output_type": "execute_result"
    }
   ],
   "source": [
    "df_sns.head(5)"
   ]
  },
  {
   "cell_type": "code",
   "execution_count": 206,
   "metadata": {},
   "outputs": [],
   "source": [
    "# 데이터 병합\n",
    "merged_df = pd.merge(df_visitors, df_sns, on=[\"개최년도\", \"시군구\"], how=\"inner\")"
   ]
  },
  {
   "cell_type": "code",
   "execution_count": 207,
   "metadata": {},
   "outputs": [
    {
     "name": "stdout",
     "output_type": "stream",
     "text": [
      "      축제명     도  시군구  읍면동  개최년도  시작월  종료월  축체기간(일)  (현지인)방문자수  (외지인)방문자수  ...  \\\n",
      "0  강경젓갈축제  충청남도  논산시  강경읍  2022   10   10        5      57971      69910  ...   \n",
      "1  강경젓갈축제  충청남도  논산시  강경읍  2022   10   10        5      57971      69910  ...   \n",
      "2  강경젓갈축제  충청남도  논산시  강경읍  2022   10   10        5      57971      69910  ...   \n",
      "3  강경젓갈축제  충청남도  논산시  강경읍  2022   10   10        5      57971      69910  ...   \n",
      "4  강경젓갈축제  충청남도  논산시  강경읍  2022   10   10        5      57971      69910  ...   \n",
      "\n",
      "   (이전)전체방문자  (전체)방문자증감  (현지인)방문자비율  (외지인)방문자비율  (외국인)방문자비율  전년대비방문자증감비율  \\\n",
      "0   110041.0      17859       45.33       54.66        0.01        16.23   \n",
      "1   110041.0      17859       45.33       54.66        0.01        16.23   \n",
      "2   110041.0      17859       45.33       54.66        0.01        16.23   \n",
      "3   110041.0      17859       45.33       54.66        0.01        16.23   \n",
      "4   110041.0      17859       45.33       54.66        0.01        16.23   \n",
      "\n",
      "   month  Province  Location  SNS_언급량  \n",
      "0      1      충청남도       NaN     6159  \n",
      "1      2      충청남도       NaN     6455  \n",
      "2      3      충청남도       NaN     6608  \n",
      "3      4      충청남도       NaN     6096  \n",
      "4      5      충청남도       NaN     9418  \n",
      "\n",
      "[5 rows x 25 columns]\n",
      "<class 'pandas.core.frame.DataFrame'>\n",
      "RangeIndex: 420 entries, 0 to 419\n",
      "Data columns (total 25 columns):\n",
      " #   Column        Non-Null Count  Dtype  \n",
      "---  ------        --------------  -----  \n",
      " 0   축제명           420 non-null    object \n",
      " 1   도             420 non-null    object \n",
      " 2   시군구           420 non-null    object \n",
      " 3   읍면동           420 non-null    object \n",
      " 4   개최년도          420 non-null    int64  \n",
      " 5   시작월           420 non-null    int64  \n",
      " 6   종료월           420 non-null    int64  \n",
      " 7   축체기간(일)       420 non-null    int64  \n",
      " 8   (현지인)방문자수     420 non-null    int64  \n",
      " 9   (외지인)방문자수     420 non-null    int64  \n",
      " 10  (외국인)방문자수     420 non-null    int64  \n",
      " 11  (전체)방문자수      420 non-null    int64  \n",
      " 12  일평균 방문자수      420 non-null    float64\n",
      " 13  전년도 일평균 방문자수  420 non-null    float64\n",
      " 14  일평균 방문자수 증감률  420 non-null    float64\n",
      " 15  (이전)전체방문자     420 non-null    float64\n",
      " 16  (전체)방문자증감     420 non-null    int64  \n",
      " 17  (현지인)방문자비율    420 non-null    float64\n",
      " 18  (외지인)방문자비율    420 non-null    float64\n",
      " 19  (외국인)방문자비율    420 non-null    float64\n",
      " 20  전년대비방문자증감비율   420 non-null    float64\n",
      " 21  month         420 non-null    int64  \n",
      " 22  Province      420 non-null    object \n",
      " 23  Location      72 non-null     object \n",
      " 24  SNS_언급량       420 non-null    int64  \n",
      "dtypes: float64(8), int64(11), object(6)\n",
      "memory usage: 82.2+ KB\n",
      "None\n"
     ]
    }
   ],
   "source": [
    "print(merged_df.head())\n",
    "print(merged_df.info())"
   ]
  },
  {
   "cell_type": "code",
   "execution_count": 208,
   "metadata": {},
   "outputs": [],
   "source": [
    "select_columns = [\"개최년도\", \"도\", \"시군구\", \"SNS_언급량\", \"(전체)방문자수\"]\n",
    "merged_df = merged_df[select_columns]"
   ]
  },
  {
   "cell_type": "code",
   "execution_count": 209,
   "metadata": {},
   "outputs": [
    {
     "data": {
      "text/plain": [
       "['개최년도', '도', '시군구', 'SNS_언급량', '(전체)방문자수']"
      ]
     },
     "execution_count": 209,
     "metadata": {},
     "output_type": "execute_result"
    }
   ],
   "source": [
    "select_columns"
   ]
  },
  {
   "cell_type": "code",
   "execution_count": 210,
   "metadata": {},
   "outputs": [
    {
     "data": {
      "text/plain": [
       "개최년도        0\n",
       "도           0\n",
       "시군구         0\n",
       "SNS_언급량     0\n",
       "(전체)방문자수    0\n",
       "dtype: int64"
      ]
     },
     "execution_count": 210,
     "metadata": {},
     "output_type": "execute_result"
    }
   ],
   "source": [
    "merged_df.isnull().sum()"
   ]
  },
  {
   "cell_type": "code",
   "execution_count": 211,
   "metadata": {},
   "outputs": [
    {
     "name": "stdout",
     "output_type": "stream",
     "text": [
      "           SNS_언급량  (전체)방문자수\n",
      "SNS_언급량   1.000000  0.016257\n",
      "(전체)방문자수  0.016257  1.000000\n"
     ]
    }
   ],
   "source": [
    "# 상관관계 분석\n",
    "correlation = merged_df[[\"SNS_언급량\", \"(전체)방문자수\"]].corr()\n",
    "print(correlation)\n"
   ]
  },
  {
   "cell_type": "code",
   "execution_count": 212,
   "metadata": {},
   "outputs": [],
   "source": [
    "# 상관관계 분석 결과 sns언급량과 전체 방문자수 간에 선형적인 연관성은 거의 없어 보임.\n",
    "# 따라서 비선형 모델 사용"
   ]
  },
  {
   "cell_type": "code",
   "execution_count": 213,
   "metadata": {},
   "outputs": [
    {
     "name": "stdout",
     "output_type": "stream",
     "text": [
      "정규화된 데이터\n",
      "[[-0.7530556 ]\n",
      " [-0.71118494]\n",
      " [-0.68954233]\n",
      " [-0.76196726]\n",
      " [-0.29205394]]\n"
     ]
    }
   ],
   "source": [
    "# 정규화\n",
    "from sklearn.preprocessing import StandardScaler\n",
    "\n",
    "# 정규화할 독립 변수\n",
    "X = merged_df[[\"SNS_언급량\"]]\n",
    "\n",
    "scaler = StandardScaler()\n",
    "X_scaled = scaler.fit_transform(X)\n",
    "\n",
    "print(\"정규화된 데이터\")\n",
    "print(X_scaled[:5]) \n"
   ]
  },
  {
   "cell_type": "code",
   "execution_count": 214,
   "metadata": {},
   "outputs": [],
   "source": [
    "from sklearn.model_selection import train_test_split\n",
    "\n",
    "# 종속 변수 설정\n",
    "y = merged_df[\"(전체)방문자수\"]\n",
    "\n",
    "# 학습/테스트 데이터 분리\n",
    "X_train, X_test, y_train, y_test = train_test_split(X_scaled, y, test_size=0.2, random_state=42)"
   ]
  },
  {
   "cell_type": "code",
   "execution_count": 215,
   "metadata": {},
   "outputs": [
    {
     "name": "stdout",
     "output_type": "stream",
     "text": [
      "학습용 데이터 크기: (336, 1)\n",
      "테스트용 데이터 크기: (84, 1)\n"
     ]
    }
   ],
   "source": [
    "print(\"학습용 데이터 크기:\", X_train.shape)\n",
    "print(\"테스트용 데이터 크기:\", X_test.shape)"
   ]
  },
  {
   "cell_type": "code",
   "execution_count": 216,
   "metadata": {},
   "outputs": [
    {
     "data": {
      "text/html": [
       "<div>\n",
       "<style scoped>\n",
       "    .dataframe tbody tr th:only-of-type {\n",
       "        vertical-align: middle;\n",
       "    }\n",
       "\n",
       "    .dataframe tbody tr th {\n",
       "        vertical-align: top;\n",
       "    }\n",
       "\n",
       "    .dataframe thead th {\n",
       "        text-align: right;\n",
       "    }\n",
       "</style>\n",
       "<table border=\"1\" class=\"dataframe\">\n",
       "  <thead>\n",
       "    <tr style=\"text-align: right;\">\n",
       "      <th></th>\n",
       "      <th>개최년도</th>\n",
       "      <th>도</th>\n",
       "      <th>시군구</th>\n",
       "      <th>SNS_언급량</th>\n",
       "      <th>(전체)방문자수</th>\n",
       "    </tr>\n",
       "  </thead>\n",
       "  <tbody>\n",
       "    <tr>\n",
       "      <th>0</th>\n",
       "      <td>2022</td>\n",
       "      <td>충청남도</td>\n",
       "      <td>논산시</td>\n",
       "      <td>6159</td>\n",
       "      <td>127900</td>\n",
       "    </tr>\n",
       "    <tr>\n",
       "      <th>1</th>\n",
       "      <td>2022</td>\n",
       "      <td>충청남도</td>\n",
       "      <td>논산시</td>\n",
       "      <td>6455</td>\n",
       "      <td>127900</td>\n",
       "    </tr>\n",
       "    <tr>\n",
       "      <th>2</th>\n",
       "      <td>2022</td>\n",
       "      <td>충청남도</td>\n",
       "      <td>논산시</td>\n",
       "      <td>6608</td>\n",
       "      <td>127900</td>\n",
       "    </tr>\n",
       "    <tr>\n",
       "      <th>3</th>\n",
       "      <td>2022</td>\n",
       "      <td>충청남도</td>\n",
       "      <td>논산시</td>\n",
       "      <td>6096</td>\n",
       "      <td>127900</td>\n",
       "    </tr>\n",
       "    <tr>\n",
       "      <th>4</th>\n",
       "      <td>2022</td>\n",
       "      <td>충청남도</td>\n",
       "      <td>논산시</td>\n",
       "      <td>9418</td>\n",
       "      <td>127900</td>\n",
       "    </tr>\n",
       "    <tr>\n",
       "      <th>...</th>\n",
       "      <td>...</td>\n",
       "      <td>...</td>\n",
       "      <td>...</td>\n",
       "      <td>...</td>\n",
       "      <td>...</td>\n",
       "    </tr>\n",
       "    <tr>\n",
       "      <th>415</th>\n",
       "      <td>2023</td>\n",
       "      <td>충청남도</td>\n",
       "      <td>서천군</td>\n",
       "      <td>8035</td>\n",
       "      <td>30030</td>\n",
       "    </tr>\n",
       "    <tr>\n",
       "      <th>416</th>\n",
       "      <td>2023</td>\n",
       "      <td>충청남도</td>\n",
       "      <td>서천군</td>\n",
       "      <td>8256</td>\n",
       "      <td>30030</td>\n",
       "    </tr>\n",
       "    <tr>\n",
       "      <th>417</th>\n",
       "      <td>2023</td>\n",
       "      <td>충청남도</td>\n",
       "      <td>서천군</td>\n",
       "      <td>7586</td>\n",
       "      <td>30030</td>\n",
       "    </tr>\n",
       "    <tr>\n",
       "      <th>418</th>\n",
       "      <td>2023</td>\n",
       "      <td>충청남도</td>\n",
       "      <td>서천군</td>\n",
       "      <td>6708</td>\n",
       "      <td>30030</td>\n",
       "    </tr>\n",
       "    <tr>\n",
       "      <th>419</th>\n",
       "      <td>2023</td>\n",
       "      <td>충청남도</td>\n",
       "      <td>서천군</td>\n",
       "      <td>5199</td>\n",
       "      <td>30030</td>\n",
       "    </tr>\n",
       "  </tbody>\n",
       "</table>\n",
       "<p>420 rows × 5 columns</p>\n",
       "</div>"
      ],
      "text/plain": [
       "     개최년도     도  시군구  SNS_언급량  (전체)방문자수\n",
       "0    2022  충청남도  논산시     6159    127900\n",
       "1    2022  충청남도  논산시     6455    127900\n",
       "2    2022  충청남도  논산시     6608    127900\n",
       "3    2022  충청남도  논산시     6096    127900\n",
       "4    2022  충청남도  논산시     9418    127900\n",
       "..    ...   ...  ...      ...       ...\n",
       "415  2023  충청남도  서천군     8035     30030\n",
       "416  2023  충청남도  서천군     8256     30030\n",
       "417  2023  충청남도  서천군     7586     30030\n",
       "418  2023  충청남도  서천군     6708     30030\n",
       "419  2023  충청남도  서천군     5199     30030\n",
       "\n",
       "[420 rows x 5 columns]"
      ]
     },
     "execution_count": 216,
     "metadata": {},
     "output_type": "execute_result"
    }
   ],
   "source": [
    "merged_df"
   ]
  },
  {
   "cell_type": "code",
   "execution_count": 217,
   "metadata": {},
   "outputs": [
    {
     "name": "stdout",
     "output_type": "stream",
     "text": [
      "MSE: 132160319540.76683\n",
      "R-squared: -0.666615872327804\n"
     ]
    }
   ],
   "source": [
    "from sklearn.ensemble import RandomForestRegressor\n",
    "from sklearn.metrics import mean_squared_error, r2_score\n",
    "\n",
    "# 랜덤 포레스트 모델 생성 및 학습\n",
    "rf_model = RandomForestRegressor(random_state=42, n_estimators=100)\n",
    "rf_model.fit(X_train, y_train)\n",
    "\n",
    "# 예측\n",
    "y_pred_rf = rf_model.predict(X_test)\n",
    "\n",
    "# 성능 평가\n",
    "mse_rf = mean_squared_error(y_test, y_pred_rf)\n",
    "r2_rf = r2_score(y_test, y_pred_rf)\n",
    "\n",
    "print(\"MSE:\", mse_rf)\n",
    "print(\"R-squared:\", r2_rf)"
   ]
  },
  {
   "cell_type": "code",
   "execution_count": 218,
   "metadata": {},
   "outputs": [],
   "source": [
    "# 한글 폰트 설정 \n",
    "\n",
    "import matplotlib.font_manager as fm\n",
    "\n",
    "plt.rc('font', family='Malgun Gothic')  \n",
    "plt.rcParams['axes.unicode_minus'] = False # 음수값"
   ]
  },
  {
   "cell_type": "code",
   "execution_count": 219,
   "metadata": {},
   "outputs": [
    {
     "data": {
      "image/png": "[encoded data removed]",
      "text/plain": [
       "<Figure size 640x480 with 1 Axes>"
      ]
     },
     "metadata": {},
     "output_type": "display_data"
    }
   ],
   "source": [
    "import matplotlib.pyplot as plt\n",
    "\n",
    "plt.scatter(X_test, y_test, color=\"blue\", label=\"실제값\")\n",
    "plt.scatter(X_test, y_pred_rf, color=\"green\", label=\"예측값\")\n",
    "plt.xlabel(\"SNS 언급량\")\n",
    "plt.ylabel(\"방문자 수\")\n",
    "plt.title(\"Random Forest: SNS 언급량 vs 방문자 수 예측\")\n",
    "plt.legend()\n",
    "plt.show()\n"
   ]
  },
  {
   "cell_type": "code",
   "execution_count": 220,
   "metadata": {},
   "outputs": [],
   "source": [
    "# 랜덤 포레스트 모델은 sns언급량만으로는 방문자수를 잘 예측하지 못하고 있음\n",
    "# 방문자 수에 영향을 미치는 변수가 부족한 것도 원인일 수 있음"
   ]
  },
  {
   "cell_type": "code",
   "execution_count": 221,
   "metadata": {},
   "outputs": [
    {
     "name": "stdout",
     "output_type": "stream",
     "text": [
      "MSE: 108091426272.50984\n",
      "R-squared: -0.3630936071756883\n"
     ]
    }
   ],
   "source": [
    "from sklearn.ensemble import GradientBoostingRegressor\n",
    "\n",
    "X_train, X_test, y_train, y_test = train_test_split(X_scaled, y, test_size=0.2, random_state=42)\n",
    "\n",
    "# Gradient Boosting 모델 학습\n",
    "gb_model = GradientBoostingRegressor(random_state=42)\n",
    "gb_model.fit(X_train, y_train)\n",
    "\n",
    "# 예측\n",
    "y_pred = gb_model.predict(X_test)\n",
    "\n",
    "# 성능 평가\n",
    "mse = mean_squared_error(y_test, y_pred)\n",
    "r2 = r2_score(y_test, y_pred)\n",
    "\n",
    "print(\"MSE:\", mse)\n",
    "print(\"R-squared:\", r2)"
   ]
  },
  {
   "cell_type": "code",
   "execution_count": 222,
   "metadata": {},
   "outputs": [
    {
     "data": {
      "image/png": "[encoded data removed]",
      "text/plain": [
       "<Figure size 640x480 with 1 Axes>"
      ]
     },
     "metadata": {},
     "output_type": "display_data"
    }
   ],
   "source": [
    "# 실제값과 예측값을 서로 다른 색상으로 시각화\n",
    "plt.scatter(X_test, y_test, color=\"blue\", label=\"실제값\", alpha=0.7)\n",
    "plt.scatter(X_test, y_pred, color=\"orange\", label=\"예측값\", alpha=0.7)\n",
    "\n",
    "# 그래프 설정\n",
    "plt.xlabel(\"SNS 언급량\")\n",
    "plt.ylabel(\"방문자 수\")\n",
    "plt.title(\"Gradient Boosting: SNS 언급량 vs 방문자 수 예측\")\n",
    "plt.legend()\n",
    "plt.show()\n"
   ]
  },
  {
   "cell_type": "code",
   "execution_count": 223,
   "metadata": {},
   "outputs": [
    {
     "data": {
      "image/png": "[encoded data removed]",
      "text/plain": [
       "<Figure size 640x480 with 1 Axes>"
      ]
     },
     "metadata": {},
     "output_type": "display_data"
    }
   ],
   "source": [
    "plt.scatter(y_test, y_pred, color=\"purple\", label=\"실제값 vs 예측값\")\n",
    "plt.xlabel(\"실제 방문자 수\")\n",
    "plt.ylabel(\"예측 방문자 수\")\n",
    "plt.title(\"Gradient Boosting: 실제값 vs 예측값\")\n",
    "plt.axline((0, 0), slope=1, color=\"red\", linestyle=\"--\")\n",
    "plt.legend()\n",
    "plt.show()"
   ]
  },
  {
   "cell_type": "code",
   "execution_count": 224,
   "metadata": {},
   "outputs": [],
   "source": [
    "# 데이터 분리\n",
    "X = merged_df[[\"SNS_언급량\"]]  # 독립 변수\n",
    "y = merged_df[\"(전체)방문자수\"]  # 종속 변수\n",
    "\n",
    "from sklearn.model_selection import train_test_split\n",
    "X_train, X_test, y_train, y_test = train_test_split(X, y, test_size=0.2, random_state=42)\n",
    "\n",
    "# 모델 학습\n",
    "from sklearn.ensemble import GradientBoostingRegressor\n",
    "model = GradientBoostingRegressor(random_state=42)\n",
    "model.fit(X_train, y_train)\n",
    "y_pred = model.predict(X_test)\n"
   ]
  },
  {
   "cell_type": "code",
   "execution_count": 225,
   "metadata": {},
   "outputs": [
    {
     "name": "stdout",
     "output_type": "stream",
     "text": [
      "X_test['SNS_언급량'] 차원: (84,)\n",
      "y_test 차원: (84,)\n",
      "y_pred 차원: (84,)\n"
     ]
    }
   ],
   "source": [
    "# 차원 확인\n",
    "print(\"X_test['SNS_언급량'] 차원:\", X_test[\"SNS_언급량\"].shape)\n",
    "print(\"y_test 차원:\", y_test.shape)\n",
    "print(\"y_pred 차원:\", y_pred.shape)"
   ]
  },
  {
   "cell_type": "code",
   "execution_count": null,
   "metadata": {},
   "outputs": [
    {
     "name": "stdout",
     "output_type": "stream",
     "text": [
      "   개최년도  시군구  예측 방문자 수 (Random Forest)  예측 방문자 수 (Gradient Boosting)\n",
      "0  2024  논산시                  183994.0                 167745.762552\n",
      "1  2024  괴산군                  183994.0                 167745.762552\n",
      "2  2024  금산군                  183994.0                 167745.762552\n",
      "3  2024  보령시                  183994.0                 167745.762552\n",
      "4  2024  서산시                  183994.0                 167745.762552\n",
      "결과가 'future_visitors_predictions_2024.csv' 파일로 저장되었습니다.\n"
     ]
    },
    {
     "name": "stderr",
     "output_type": "stream",
     "text": [
      "c:\\Users\\carpe\\Anaconda3\\Lib\\site-packages\\sklearn\\base.py:486: UserWarning: X has feature names, but RandomForestRegressor was fitted without feature names\n",
      "  warnings.warn(\n"
     ]
    }
   ],
   "source": [
    "# 2024년 데이터를 생성\n",
    "next_year = 2024\n",
    "future_data = pd.DataFrame({\n",
    "    \"개최년도\": [next_year] * len(merged_df[\"시군구\"].unique()),\n",
    "    \"SNS_언급량\": merged_df[\"SNS_언급량\"].mean(),  # 평균 SNS 언급량 사용\n",
    "    \"시군구\": merged_df[\"시군구\"].unique()\n",
    "})\n",
    "\n",
    "# 시군구와 개최년도 One-Hot Encoding\n",
    "future_data = pd.get_dummies(future_data, columns=[\"시군구\", \"개최년도\"])\n",
    "\n",
    "# 학습 데이터와 컬럼 정렬 일치\n",
    "future_data = future_data.reindex(columns=X_train.columns, fill_value=0)\n",
    "\n",
    "# 예측 수행 (Random Forest)\n",
    "future_predictions_rf = rf_model.predict(future_data)\n",
    "\n",
    "# 예측 수행 (Gradient Boosting)\n",
    "future_predictions_gb = model.predict(future_data)\n",
    "\n",
    "# 결과 데이터프레임 생성\n",
    "future_results = pd.DataFrame({\n",
    "    \"개최년도\": [next_year] * len(merged_df[\"시군구\"].unique()),\n",
    "    \"시군구\": merged_df[\"시군구\"].unique(),\n",
    "    \"예측 방문자 수 (Random Forest)\": future_predictions_rf,\n",
    "    \"예측 방문자 수 (Gradient Boosting)\": future_predictions_gb\n",
    "})\n",
    "\n",
    "# 결과 출력\n",
    "print(future_results.head())"
   ]
  }
 ],
 "metadata": {
  "kernelspec": {
   "display_name": "base",
   "language": "python",
   "name": "python3"
  },
  "language_info": {
   "codemirror_mode": {
    "name": "ipython",
    "version": 3
   },
   "file_extension": ".py",
   "mimetype": "text/x-python",
   "name": "python",
   "nbconvert_exporter": "python",
   "pygments_lexer": "ipython3",
   "version": "3.12.4"
  }
 },
 "nbformat": 4,
 "nbformat_minor": 2
}
